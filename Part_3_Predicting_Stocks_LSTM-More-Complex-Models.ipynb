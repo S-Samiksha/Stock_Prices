{
 "cells": [
  {
   "cell_type": "markdown",
   "metadata": {
    "id": "vJDQalN7BU_q"
   },
   "source": [
    "## References\n",
    "\n",
    "https://drlee.io/advanced-stock-pattern-prediction-using-lstm-with-the-attention-mechanism-in-tensorflow-a-step-by-143a2e8b0e95\n",
    "\n",
    "https://towardsdatascience.com/predicting-stock-prices-using-a-keras-lstm-model-4225457f0233"
   ]
  },
  {
   "cell_type": "code",
   "execution_count": 1,
   "metadata": {
    "id": "Jk7ssrN1AmZK"
   },
   "outputs": [],
   "source": [
    "!pip install tensorflow -qqq\n",
    "!pip install keras -qqq\n",
    "!pip install yfinance -qqq"
   ]
  },
  {
   "cell_type": "code",
   "execution_count": 2,
   "metadata": {
    "colab": {
     "base_uri": "https://localhost:8080/"
    },
    "id": "GjIyHnzLAqQF",
    "outputId": "b9814434-03c6-49c3-fcaf-a1e914d79ed1"
   },
   "outputs": [
    {
     "name": "stdout",
     "output_type": "stream",
     "text": [
      "TensorFlow Version:  2.10.1\n"
     ]
    }
   ],
   "source": [
    "import tensorflow as tf\n",
    "import keras\n",
    "import yfinance as yf\n",
    "import numpy as np\n",
    "import pandas as pd\n",
    "import matplotlib.pyplot as plt\n",
    "\n",
    "# Check TensorFlow version\n",
    "print(\"TensorFlow Version: \", tf.__version__)"
   ]
  },
  {
   "cell_type": "code",
   "execution_count": 3,
   "metadata": {
    "id": "nsM8DbDSAtjI"
   },
   "outputs": [],
   "source": [
    "# Constant Values \n",
    "TICKER = \"AAPL\"\n",
    "START_DATE = \"2022-11-01\"\n",
    "END_DATE = \"2024-05-31\"\n",
    "START_PREDICTION_DATE = \"2024-05-31\"\n",
    "END_PREDICTION_DATE = \"2024-11-20\"\n",
    "TARGET_VARIABLE = \"Adj Close\" # choose from \"Adj Close\", \"Close\", \"High\", \"Low\", \"Open\", and \"Volume\"\n",
    "DAYS_TO_PREDICT = 120 # Days into the future that we want to predict\n",
    "DAYS_BEFORE =  200 # Days from the past to be used, pick one from [365, 120, 60, 30, 14] and run the whole notebook to attain the results. \n",
    "\n",
    "\n",
    "NUM_EPOCHS = 100 # Number of training iterations\n",
    "TRAINING_PCNT = 0.90"
   ]
  },
  {
   "cell_type": "code",
   "execution_count": 4,
   "metadata": {
    "colab": {
     "base_uri": "https://localhost:8080/"
    },
    "id": "jCfnxMEPAy_j",
    "outputId": "afa4646d-acb8-406d-9dba-bac9c93f9e18"
   },
   "outputs": [],
   "source": [
    "# Getting information about the company\n",
    "company = yf.Ticker(TICKER)\n",
    "# company.info"
   ]
  },
  {
   "cell_type": "code",
   "execution_count": 5,
   "metadata": {
    "colab": {
     "base_uri": "https://localhost:8080/",
     "height": 504
    },
    "id": "dDzvii0yAzrh",
    "outputId": "c872f80a-5e23-494e-df64-0a76e31c8c21"
   },
   "outputs": [
    {
     "name": "stderr",
     "output_type": "stream",
     "text": [
      "[*********************100%***********************]  1 of 1 completed\n",
      "[*********************100%***********************]  1 of 1 completed\n"
     ]
    },
    {
     "data": {
      "text/html": [
       "<div>\n",
       "<style scoped>\n",
       "    .dataframe tbody tr th:only-of-type {\n",
       "        vertical-align: middle;\n",
       "    }\n",
       "\n",
       "    .dataframe tbody tr th {\n",
       "        vertical-align: top;\n",
       "    }\n",
       "\n",
       "    .dataframe thead tr th {\n",
       "        text-align: left;\n",
       "    }\n",
       "\n",
       "    .dataframe thead tr:last-of-type th {\n",
       "        text-align: right;\n",
       "    }\n",
       "</style>\n",
       "<table border=\"1\" class=\"dataframe\">\n",
       "  <thead>\n",
       "    <tr>\n",
       "      <th>Price</th>\n",
       "      <th>Adj Close</th>\n",
       "      <th>Close</th>\n",
       "      <th>High</th>\n",
       "      <th>Low</th>\n",
       "      <th>Open</th>\n",
       "      <th>Volume</th>\n",
       "    </tr>\n",
       "    <tr>\n",
       "      <th>Ticker</th>\n",
       "      <th>AAPL</th>\n",
       "      <th>AAPL</th>\n",
       "      <th>AAPL</th>\n",
       "      <th>AAPL</th>\n",
       "      <th>AAPL</th>\n",
       "      <th>AAPL</th>\n",
       "    </tr>\n",
       "    <tr>\n",
       "      <th>Date</th>\n",
       "      <th></th>\n",
       "      <th></th>\n",
       "      <th></th>\n",
       "      <th></th>\n",
       "      <th></th>\n",
       "      <th></th>\n",
       "    </tr>\n",
       "  </thead>\n",
       "  <tbody>\n",
       "    <tr>\n",
       "      <th>2024-05-23 00:00:00+00:00</th>\n",
       "      <td>186.458801</td>\n",
       "      <td>186.880005</td>\n",
       "      <td>191.000000</td>\n",
       "      <td>186.630005</td>\n",
       "      <td>190.979996</td>\n",
       "      <td>51005900</td>\n",
       "    </tr>\n",
       "    <tr>\n",
       "      <th>2024-05-24 00:00:00+00:00</th>\n",
       "      <td>189.551804</td>\n",
       "      <td>189.979996</td>\n",
       "      <td>190.580002</td>\n",
       "      <td>188.039993</td>\n",
       "      <td>188.820007</td>\n",
       "      <td>36294600</td>\n",
       "    </tr>\n",
       "    <tr>\n",
       "      <th>2024-05-28 00:00:00+00:00</th>\n",
       "      <td>189.561798</td>\n",
       "      <td>189.990005</td>\n",
       "      <td>193.000000</td>\n",
       "      <td>189.100006</td>\n",
       "      <td>191.509995</td>\n",
       "      <td>52280100</td>\n",
       "    </tr>\n",
       "    <tr>\n",
       "      <th>2024-05-29 00:00:00+00:00</th>\n",
       "      <td>189.861115</td>\n",
       "      <td>190.289993</td>\n",
       "      <td>192.250000</td>\n",
       "      <td>189.509995</td>\n",
       "      <td>189.610001</td>\n",
       "      <td>53068000</td>\n",
       "    </tr>\n",
       "    <tr>\n",
       "      <th>2024-05-30 00:00:00+00:00</th>\n",
       "      <td>190.858856</td>\n",
       "      <td>191.289993</td>\n",
       "      <td>192.179993</td>\n",
       "      <td>190.630005</td>\n",
       "      <td>190.759995</td>\n",
       "      <td>49947900</td>\n",
       "    </tr>\n",
       "  </tbody>\n",
       "</table>\n",
       "</div>"
      ],
      "text/plain": [
       "Price                       Adj Close       Close        High         Low  \\\n",
       "Ticker                           AAPL        AAPL        AAPL        AAPL   \n",
       "Date                                                                        \n",
       "2024-05-23 00:00:00+00:00  186.458801  186.880005  191.000000  186.630005   \n",
       "2024-05-24 00:00:00+00:00  189.551804  189.979996  190.580002  188.039993   \n",
       "2024-05-28 00:00:00+00:00  189.561798  189.990005  193.000000  189.100006   \n",
       "2024-05-29 00:00:00+00:00  189.861115  190.289993  192.250000  189.509995   \n",
       "2024-05-30 00:00:00+00:00  190.858856  191.289993  192.179993  190.630005   \n",
       "\n",
       "Price                            Open    Volume  \n",
       "Ticker                           AAPL      AAPL  \n",
       "Date                                             \n",
       "2024-05-23 00:00:00+00:00  190.979996  51005900  \n",
       "2024-05-24 00:00:00+00:00  188.820007  36294600  \n",
       "2024-05-28 00:00:00+00:00  191.509995  52280100  \n",
       "2024-05-29 00:00:00+00:00  189.610001  53068000  \n",
       "2024-05-30 00:00:00+00:00  190.759995  49947900  "
      ]
     },
     "execution_count": 5,
     "metadata": {},
     "output_type": "execute_result"
    }
   ],
   "source": [
    "data = yf.download(TICKER, start=START_DATE, end=END_DATE)\n",
    "prediction_data = yf.download(TICKER, start=START_PREDICTION_DATE, end=END_PREDICTION_DATE)\n",
    "data.tail()"
   ]
  },
  {
   "cell_type": "code",
   "execution_count": 6,
   "metadata": {},
   "outputs": [
    {
     "data": {
      "text/html": [
       "<div>\n",
       "<style scoped>\n",
       "    .dataframe tbody tr th:only-of-type {\n",
       "        vertical-align: middle;\n",
       "    }\n",
       "\n",
       "    .dataframe tbody tr th {\n",
       "        vertical-align: top;\n",
       "    }\n",
       "\n",
       "    .dataframe thead tr th {\n",
       "        text-align: left;\n",
       "    }\n",
       "\n",
       "    .dataframe thead tr:last-of-type th {\n",
       "        text-align: right;\n",
       "    }\n",
       "</style>\n",
       "<table border=\"1\" class=\"dataframe\">\n",
       "  <thead>\n",
       "    <tr>\n",
       "      <th>Price</th>\n",
       "      <th>Adj Close</th>\n",
       "      <th>Close</th>\n",
       "      <th>High</th>\n",
       "      <th>Low</th>\n",
       "      <th>Open</th>\n",
       "      <th>Volume</th>\n",
       "    </tr>\n",
       "    <tr>\n",
       "      <th>Ticker</th>\n",
       "      <th>AAPL</th>\n",
       "      <th>AAPL</th>\n",
       "      <th>AAPL</th>\n",
       "      <th>AAPL</th>\n",
       "      <th>AAPL</th>\n",
       "      <th>AAPL</th>\n",
       "    </tr>\n",
       "    <tr>\n",
       "      <th>Date</th>\n",
       "      <th></th>\n",
       "      <th></th>\n",
       "      <th></th>\n",
       "      <th></th>\n",
       "      <th></th>\n",
       "      <th></th>\n",
       "    </tr>\n",
       "  </thead>\n",
       "  <tbody>\n",
       "    <tr>\n",
       "      <th>2024-05-31 00:00:00+00:00</th>\n",
       "      <td>191.816681</td>\n",
       "      <td>192.250000</td>\n",
       "      <td>192.570007</td>\n",
       "      <td>189.910004</td>\n",
       "      <td>191.440002</td>\n",
       "      <td>75158300</td>\n",
       "    </tr>\n",
       "    <tr>\n",
       "      <th>2024-06-03 00:00:00+00:00</th>\n",
       "      <td>193.592682</td>\n",
       "      <td>194.029999</td>\n",
       "      <td>194.990005</td>\n",
       "      <td>192.520004</td>\n",
       "      <td>192.899994</td>\n",
       "      <td>50080500</td>\n",
       "    </tr>\n",
       "    <tr>\n",
       "      <th>2024-06-04 00:00:00+00:00</th>\n",
       "      <td>193.911957</td>\n",
       "      <td>194.350006</td>\n",
       "      <td>195.320007</td>\n",
       "      <td>193.029999</td>\n",
       "      <td>194.639999</td>\n",
       "      <td>47471400</td>\n",
       "    </tr>\n",
       "    <tr>\n",
       "      <th>2024-06-05 00:00:00+00:00</th>\n",
       "      <td>195.428528</td>\n",
       "      <td>195.869995</td>\n",
       "      <td>196.899994</td>\n",
       "      <td>194.869995</td>\n",
       "      <td>195.399994</td>\n",
       "      <td>54156800</td>\n",
       "    </tr>\n",
       "    <tr>\n",
       "      <th>2024-06-06 00:00:00+00:00</th>\n",
       "      <td>194.041672</td>\n",
       "      <td>194.479996</td>\n",
       "      <td>196.500000</td>\n",
       "      <td>194.169998</td>\n",
       "      <td>195.690002</td>\n",
       "      <td>41181800</td>\n",
       "    </tr>\n",
       "  </tbody>\n",
       "</table>\n",
       "</div>"
      ],
      "text/plain": [
       "Price                       Adj Close       Close        High         Low  \\\n",
       "Ticker                           AAPL        AAPL        AAPL        AAPL   \n",
       "Date                                                                        \n",
       "2024-05-31 00:00:00+00:00  191.816681  192.250000  192.570007  189.910004   \n",
       "2024-06-03 00:00:00+00:00  193.592682  194.029999  194.990005  192.520004   \n",
       "2024-06-04 00:00:00+00:00  193.911957  194.350006  195.320007  193.029999   \n",
       "2024-06-05 00:00:00+00:00  195.428528  195.869995  196.899994  194.869995   \n",
       "2024-06-06 00:00:00+00:00  194.041672  194.479996  196.500000  194.169998   \n",
       "\n",
       "Price                            Open    Volume  \n",
       "Ticker                           AAPL      AAPL  \n",
       "Date                                             \n",
       "2024-05-31 00:00:00+00:00  191.440002  75158300  \n",
       "2024-06-03 00:00:00+00:00  192.899994  50080500  \n",
       "2024-06-04 00:00:00+00:00  194.639999  47471400  \n",
       "2024-06-05 00:00:00+00:00  195.399994  54156800  \n",
       "2024-06-06 00:00:00+00:00  195.690002  41181800  "
      ]
     },
     "execution_count": 6,
     "metadata": {},
     "output_type": "execute_result"
    }
   ],
   "source": [
    "prediction_data.head()"
   ]
  },
  {
   "cell_type": "code",
   "execution_count": 7,
   "metadata": {
    "colab": {
     "base_uri": "https://localhost:8080/",
     "height": 303
    },
    "id": "LHGIy5pjA2sO",
    "outputId": "53835bd6-2e81-481c-8665-12ffa2436d7f"
   },
   "outputs": [
    {
     "data": {
      "text/plain": [
       "Price      Ticker\n",
       "Adj Close  AAPL      0\n",
       "Close      AAPL      0\n",
       "High       AAPL      0\n",
       "Low        AAPL      0\n",
       "Open       AAPL      0\n",
       "Volume     AAPL      0\n",
       "dtype: int64"
      ]
     },
     "execution_count": 7,
     "metadata": {},
     "output_type": "execute_result"
    }
   ],
   "source": [
    "# checking for missing value\n",
    "data.isnull().sum()"
   ]
  },
  {
   "cell_type": "code",
   "execution_count": 8,
   "metadata": {
    "id": "fpM_IwAeA7IG"
   },
   "outputs": [],
   "source": [
    "from sklearn.preprocessing import MinMaxScaler\n",
    "\n",
    "scaler = MinMaxScaler(feature_range=(0,1))\n",
    "data_scaled = scaler.fit_transform(data[TARGET_VARIABLE].values.reshape(-1,1))"
   ]
  },
  {
   "cell_type": "code",
   "execution_count": 9,
   "metadata": {
    "id": "s96wDtaXBGw1"
   },
   "outputs": [],
   "source": [
    "'''\n",
    "Creating sequences\n",
    "\n",
    "LSTM models require input to be in a sequenced format.\n",
    "\n",
    "'''\n",
    "\n",
    "X = []\n",
    "y = []\n",
    "\n",
    "for i in range(DAYS_BEFORE, len(data_scaled)):\n",
    "    X.append(data_scaled[i-DAYS_BEFORE:i, 0])\n",
    "    y.append(data_scaled[i, 0])"
   ]
  },
  {
   "cell_type": "code",
   "execution_count": 10,
   "metadata": {
    "id": "wa7fDSyBBh2_"
   },
   "outputs": [
    {
     "data": {
      "text/plain": [
       "176"
      ]
     },
     "execution_count": 10,
     "metadata": {},
     "output_type": "execute_result"
    }
   ],
   "source": [
    "train_size = int(len(X) * TRAINING_PCNT)\n",
    "test_size = len(X) - train_size\n",
    "\n",
    "X_train, X_test = X[:train_size], X[train_size:]\n",
    "y_train, y_test = y[:train_size], y[train_size:]\n",
    "len(X_train)"
   ]
  },
  {
   "cell_type": "code",
   "execution_count": 11,
   "metadata": {
    "id": "f8u9Ck47CXib"
   },
   "outputs": [],
   "source": [
    "# Reshape the data for the LSTM\n",
    "\n",
    "X_train, y_train = np.array(X_train), np.array(y_train)\n",
    "X_train = np.reshape(X_train, (X_train.shape[0], X_train.shape[1], 1))"
   ]
  },
  {
   "cell_type": "code",
   "execution_count": 12,
   "metadata": {
    "colab": {
     "base_uri": "https://localhost:8080/"
    },
    "id": "i-mtp8aiCr07",
    "outputId": "4e3f571e-1b5a-447a-807a-b4582f6541a7"
   },
   "outputs": [],
   "source": [
    "from keras.models import Sequential\n",
    "from keras.layers import LSTM, Dense, Dropout, AdditiveAttention, Permute, Reshape, Multiply\n",
    "\n",
    "keras.backend.clear_session()\n",
    "\n",
    "model = Sequential()\n",
    "model.add(LSTM(units=20,return_sequences=True,input_shape=(X_train.shape[1], 1)))\n",
    "model.add(Dropout(0.2))\n",
    "model.add(LSTM(units=20,return_sequences=True))\n",
    "model.add(Dropout(0.2))\n",
    "model.add(LSTM(units=20,return_sequences=True))\n",
    "model.add(Dropout(0.1))\n",
    "model.add(LSTM(units=20))\n",
    "model.add(Dropout(0.1))\n",
    "model.add(Dense(units=1))\n",
    "\n",
    "# Attention mechanism ignored here\n",
    "# Only raw LSTM is used here"
   ]
  },
  {
   "cell_type": "code",
   "execution_count": 13,
   "metadata": {
    "colab": {
     "base_uri": "https://localhost:8080/",
     "height": 417
    },
    "id": "aoCUK2KNHvzZ",
    "outputId": "25cc6cbc-3ee1-4ed7-b72a-d3d13a0c52ef"
   },
   "outputs": [
    {
     "name": "stdout",
     "output_type": "stream",
     "text": [
      "Model: \"sequential\"\n",
      "_________________________________________________________________\n",
      " Layer (type)                Output Shape              Param #   \n",
      "=================================================================\n",
      " lstm (LSTM)                 (None, 200, 20)           1760      \n",
      "                                                                 \n",
      " dropout (Dropout)           (None, 200, 20)           0         \n",
      "                                                                 \n",
      " lstm_1 (LSTM)               (None, 200, 20)           3280      \n",
      "                                                                 \n",
      " dropout_1 (Dropout)         (None, 200, 20)           0         \n",
      "                                                                 \n",
      " lstm_2 (LSTM)               (None, 200, 20)           3280      \n",
      "                                                                 \n",
      " dropout_2 (Dropout)         (None, 200, 20)           0         \n",
      "                                                                 \n",
      " lstm_3 (LSTM)               (None, 20)                3280      \n",
      "                                                                 \n",
      " dropout_3 (Dropout)         (None, 20)                0         \n",
      "                                                                 \n",
      " dense (Dense)               (None, 1)                 21        \n",
      "                                                                 \n",
      "=================================================================\n",
      "Total params: 11,621\n",
      "Trainable params: 11,621\n",
      "Non-trainable params: 0\n",
      "_________________________________________________________________\n"
     ]
    }
   ],
   "source": [
    "model.summary()"
   ]
  },
  {
   "cell_type": "code",
   "execution_count": 14,
   "metadata": {
    "colab": {
     "base_uri": "https://localhost:8080/"
    },
    "id": "USuZFfd9Cwwd",
    "outputId": "7c4bdefb-0a55-44f9-e5e5-07650bbbbb44",
    "scrolled": true
   },
   "outputs": [
    {
     "name": "stdout",
     "output_type": "stream",
     "text": [
      "Epoch 1/100\n",
      "5/5 [==============================] - 8s 571ms/step - loss: 0.6195 - val_loss: 0.1888\n",
      "Epoch 2/100\n",
      "5/5 [==============================] - 1s 184ms/step - loss: 0.2463 - val_loss: 0.0036\n",
      "Epoch 3/100\n",
      "5/5 [==============================] - 1s 187ms/step - loss: 0.0401 - val_loss: 0.0971\n",
      "Epoch 4/100\n",
      "5/5 [==============================] - 1s 183ms/step - loss: 0.0582 - val_loss: 0.0955\n",
      "Epoch 5/100\n",
      "5/5 [==============================] - 1s 197ms/step - loss: 0.0395 - val_loss: 0.0295\n",
      "Epoch 6/100\n",
      "5/5 [==============================] - 1s 182ms/step - loss: 0.0276 - val_loss: 0.0078\n",
      "Epoch 7/100\n",
      "5/5 [==============================] - 1s 185ms/step - loss: 0.0341 - val_loss: 0.0086\n",
      "Epoch 8/100\n",
      "5/5 [==============================] - 1s 204ms/step - loss: 0.0234 - val_loss: 0.0161\n",
      "Epoch 9/100\n",
      "5/5 [==============================] - 1s 185ms/step - loss: 0.0258 - val_loss: 0.0287\n",
      "Epoch 10/100\n",
      "5/5 [==============================] - 1s 181ms/step - loss: 0.0199 - val_loss: 0.0355\n",
      "Epoch 11/100\n",
      "5/5 [==============================] - 1s 177ms/step - loss: 0.0218 - val_loss: 0.0300\n",
      "Epoch 12/100\n",
      "5/5 [==============================] - 1s 179ms/step - loss: 0.0207 - val_loss: 0.0212\n",
      "Epoch 13/100\n",
      "5/5 [==============================] - 1s 180ms/step - loss: 0.0200 - val_loss: 0.0172\n",
      "Epoch 14/100\n",
      "5/5 [==============================] - 1s 176ms/step - loss: 0.0207 - val_loss: 0.0184\n",
      "Epoch 15/100\n",
      "5/5 [==============================] - 1s 172ms/step - loss: 0.0198 - val_loss: 0.0223\n",
      "Epoch 16/100\n",
      "5/5 [==============================] - 1s 174ms/step - loss: 0.0167 - val_loss: 0.0232\n",
      "Epoch 17/100\n",
      "5/5 [==============================] - 1s 177ms/step - loss: 0.0194 - val_loss: 0.0184\n",
      "Epoch 18/100\n",
      "5/5 [==============================] - 1s 176ms/step - loss: 0.0217 - val_loss: 0.0209\n",
      "Epoch 19/100\n",
      "5/5 [==============================] - 1s 182ms/step - loss: 0.0176 - val_loss: 0.0238\n",
      "Epoch 20/100\n",
      "5/5 [==============================] - 1s 183ms/step - loss: 0.0192 - val_loss: 0.0245\n",
      "Epoch 21/100\n",
      "5/5 [==============================] - 1s 182ms/step - loss: 0.0163 - val_loss: 0.0232\n",
      "Epoch 22/100\n",
      "5/5 [==============================] - 1s 178ms/step - loss: 0.0175 - val_loss: 0.0205\n",
      "Epoch 23/100\n",
      "5/5 [==============================] - 1s 176ms/step - loss: 0.0214 - val_loss: 0.0203\n",
      "Epoch 24/100\n",
      "5/5 [==============================] - 1s 174ms/step - loss: 0.0180 - val_loss: 0.0210\n",
      "Epoch 25/100\n",
      "5/5 [==============================] - 1s 175ms/step - loss: 0.0196 - val_loss: 0.0220\n",
      "Epoch 26/100\n",
      "5/5 [==============================] - 1s 188ms/step - loss: 0.0192 - val_loss: 0.0201\n",
      "Epoch 27/100\n",
      "5/5 [==============================] - 1s 187ms/step - loss: 0.0215 - val_loss: 0.0194\n",
      "Epoch 28/100\n",
      "5/5 [==============================] - 1s 180ms/step - loss: 0.0176 - val_loss: 0.0200\n",
      "Epoch 29/100\n",
      "5/5 [==============================] - 1s 174ms/step - loss: 0.0191 - val_loss: 0.0189\n",
      "Epoch 30/100\n",
      "5/5 [==============================] - 1s 169ms/step - loss: 0.0178 - val_loss: 0.0242\n",
      "Epoch 31/100\n",
      "5/5 [==============================] - 1s 174ms/step - loss: 0.0164 - val_loss: 0.0176\n",
      "Epoch 32/100\n",
      "5/5 [==============================] - 1s 196ms/step - loss: 0.0160 - val_loss: 0.0136\n",
      "Epoch 33/100\n",
      "5/5 [==============================] - 1s 203ms/step - loss: 0.0168 - val_loss: 0.0161\n",
      "Epoch 34/100\n",
      "5/5 [==============================] - 1s 191ms/step - loss: 0.0142 - val_loss: 0.0166\n",
      "Epoch 35/100\n",
      "5/5 [==============================] - 1s 212ms/step - loss: 0.0148 - val_loss: 0.0198\n",
      "Epoch 36/100\n",
      "5/5 [==============================] - 1s 209ms/step - loss: 0.0153 - val_loss: 0.0205\n",
      "Epoch 37/100\n",
      "5/5 [==============================] - 1s 179ms/step - loss: 0.0155 - val_loss: 0.0176\n",
      "Epoch 38/100\n",
      "5/5 [==============================] - 1s 179ms/step - loss: 0.0169 - val_loss: 0.0177\n",
      "Epoch 39/100\n",
      "5/5 [==============================] - 1s 213ms/step - loss: 0.0190 - val_loss: 0.0234\n",
      "Epoch 40/100\n",
      "5/5 [==============================] - 1s 195ms/step - loss: 0.0160 - val_loss: 0.0090\n",
      "Epoch 41/100\n",
      "5/5 [==============================] - 1s 180ms/step - loss: 0.0178 - val_loss: 0.0171\n",
      "Epoch 42/100\n",
      "5/5 [==============================] - 1s 182ms/step - loss: 0.0155 - val_loss: 0.0202\n",
      "Epoch 43/100\n",
      "5/5 [==============================] - 1s 186ms/step - loss: 0.0133 - val_loss: 0.0115\n",
      "Epoch 44/100\n",
      "5/5 [==============================] - 1s 182ms/step - loss: 0.0161 - val_loss: 0.0200\n",
      "Epoch 45/100\n",
      "5/5 [==============================] - 1s 188ms/step - loss: 0.0142 - val_loss: 0.0200\n",
      "Epoch 46/100\n",
      "5/5 [==============================] - 1s 188ms/step - loss: 0.0170 - val_loss: 0.0083\n",
      "Epoch 47/100\n",
      "5/5 [==============================] - 1s 183ms/step - loss: 0.0170 - val_loss: 0.0203\n",
      "Epoch 48/100\n",
      "5/5 [==============================] - 1s 177ms/step - loss: 0.0154 - val_loss: 0.0130\n",
      "Epoch 49/100\n",
      "5/5 [==============================] - 1s 178ms/step - loss: 0.0141 - val_loss: 0.0139\n",
      "Epoch 50/100\n",
      "5/5 [==============================] - 1s 181ms/step - loss: 0.0147 - val_loss: 0.0148\n",
      "Epoch 51/100\n",
      "5/5 [==============================] - 1s 180ms/step - loss: 0.0144 - val_loss: 0.0156\n",
      "Epoch 52/100\n",
      "5/5 [==============================] - 1s 180ms/step - loss: 0.0188 - val_loss: 0.0118\n",
      "Epoch 53/100\n",
      "5/5 [==============================] - 1s 190ms/step - loss: 0.0152 - val_loss: 0.0201\n",
      "Epoch 54/100\n",
      "5/5 [==============================] - 1s 176ms/step - loss: 0.0137 - val_loss: 0.0108\n",
      "Epoch 55/100\n",
      "5/5 [==============================] - 1s 185ms/step - loss: 0.0173 - val_loss: 0.0142\n",
      "Epoch 56/100\n",
      "5/5 [==============================] - 1s 192ms/step - loss: 0.0131 - val_loss: 0.0217\n",
      "Epoch 57/100\n",
      "5/5 [==============================] - 1s 184ms/step - loss: 0.0144 - val_loss: 0.0085\n",
      "Epoch 58/100\n",
      "5/5 [==============================] - 1s 210ms/step - loss: 0.0136 - val_loss: 0.0193\n",
      "Epoch 59/100\n",
      "5/5 [==============================] - 1s 196ms/step - loss: 0.0151 - val_loss: 0.0106\n",
      "Epoch 60/100\n",
      "5/5 [==============================] - 1s 179ms/step - loss: 0.0164 - val_loss: 0.0147\n",
      "Epoch 61/100\n",
      "5/5 [==============================] - 1s 189ms/step - loss: 0.0145 - val_loss: 0.0190\n",
      "Epoch 62/100\n",
      "5/5 [==============================] - 1s 183ms/step - loss: 0.0158 - val_loss: 0.0067\n",
      "Epoch 63/100\n",
      "5/5 [==============================] - 1s 182ms/step - loss: 0.0144 - val_loss: 0.0163\n",
      "Epoch 64/100\n",
      "5/5 [==============================] - 1s 187ms/step - loss: 0.0183 - val_loss: 0.0221\n",
      "Epoch 65/100\n",
      "5/5 [==============================] - 1s 194ms/step - loss: 0.0138 - val_loss: 0.0044\n",
      "Epoch 66/100\n",
      "5/5 [==============================] - 1s 190ms/step - loss: 0.0166 - val_loss: 0.0209\n",
      "Epoch 67/100\n",
      "5/5 [==============================] - 1s 181ms/step - loss: 0.0137 - val_loss: 0.0119\n",
      "Epoch 68/100\n",
      "5/5 [==============================] - 1s 179ms/step - loss: 0.0136 - val_loss: 0.0124\n",
      "Epoch 69/100\n",
      "5/5 [==============================] - 1s 184ms/step - loss: 0.0130 - val_loss: 0.0153\n",
      "Epoch 70/100\n",
      "5/5 [==============================] - 1s 189ms/step - loss: 0.0146 - val_loss: 0.0111\n",
      "Epoch 71/100\n",
      "5/5 [==============================] - 1s 187ms/step - loss: 0.0152 - val_loss: 0.0093\n",
      "Epoch 72/100\n",
      "5/5 [==============================] - 1s 185ms/step - loss: 0.0140 - val_loss: 0.0176\n",
      "Epoch 73/100\n",
      "5/5 [==============================] - 1s 187ms/step - loss: 0.0136 - val_loss: 0.0119\n",
      "Epoch 74/100\n",
      "5/5 [==============================] - 1s 180ms/step - loss: 0.0109 - val_loss: 0.0117\n",
      "Epoch 75/100\n",
      "5/5 [==============================] - 1s 185ms/step - loss: 0.0121 - val_loss: 0.0140\n",
      "Epoch 76/100\n",
      "5/5 [==============================] - 1s 190ms/step - loss: 0.0135 - val_loss: 0.0087\n",
      "Epoch 77/100\n",
      "5/5 [==============================] - 1s 188ms/step - loss: 0.0136 - val_loss: 0.0122\n",
      "Epoch 78/100\n",
      "5/5 [==============================] - 1s 183ms/step - loss: 0.0150 - val_loss: 0.0072\n",
      "Epoch 79/100\n",
      "5/5 [==============================] - 1s 186ms/step - loss: 0.0173 - val_loss: 0.0092\n",
      "Epoch 80/100\n",
      "5/5 [==============================] - 1s 175ms/step - loss: 0.0133 - val_loss: 0.0112\n",
      "Epoch 81/100\n",
      "5/5 [==============================] - 1s 182ms/step - loss: 0.0108 - val_loss: 0.0059\n",
      "Epoch 82/100\n",
      "5/5 [==============================] - 1s 193ms/step - loss: 0.0110 - val_loss: 0.0093\n",
      "Epoch 83/100\n",
      "5/5 [==============================] - 1s 182ms/step - loss: 0.0139 - val_loss: 0.0049\n",
      "Epoch 84/100\n",
      "5/5 [==============================] - 1s 172ms/step - loss: 0.0105 - val_loss: 0.0129\n",
      "Epoch 85/100\n",
      "5/5 [==============================] - 1s 173ms/step - loss: 0.0118 - val_loss: 0.0047\n",
      "Epoch 86/100\n",
      "5/5 [==============================] - 1s 183ms/step - loss: 0.0136 - val_loss: 0.0128\n",
      "Epoch 87/100\n",
      "5/5 [==============================] - 1s 194ms/step - loss: 0.0123 - val_loss: 0.0039\n",
      "Epoch 88/100\n",
      "5/5 [==============================] - 1s 216ms/step - loss: 0.0125 - val_loss: 0.0080\n",
      "Epoch 89/100\n",
      "5/5 [==============================] - 1s 181ms/step - loss: 0.0114 - val_loss: 0.0042\n",
      "Epoch 90/100\n",
      "5/5 [==============================] - 1s 189ms/step - loss: 0.0097 - val_loss: 0.0022\n",
      "Epoch 91/100\n",
      "5/5 [==============================] - 1s 185ms/step - loss: 0.0114 - val_loss: 0.0100\n",
      "Epoch 92/100\n",
      "5/5 [==============================] - 1s 181ms/step - loss: 0.0110 - val_loss: 0.0031\n",
      "Epoch 93/100\n",
      "5/5 [==============================] - 1s 176ms/step - loss: 0.0115 - val_loss: 0.0023\n",
      "Epoch 94/100\n",
      "5/5 [==============================] - 1s 178ms/step - loss: 0.0113 - val_loss: 0.0056\n",
      "Epoch 95/100\n",
      "5/5 [==============================] - 1s 178ms/step - loss: 0.0089 - val_loss: 0.0039\n",
      "Epoch 96/100\n",
      "5/5 [==============================] - 1s 181ms/step - loss: 0.0115 - val_loss: 0.0035\n",
      "Epoch 97/100\n",
      "5/5 [==============================] - 1s 179ms/step - loss: 0.0102 - val_loss: 0.0048\n",
      "Epoch 98/100\n",
      "5/5 [==============================] - 1s 180ms/step - loss: 0.0103 - val_loss: 0.0027\n",
      "Epoch 99/100\n",
      "5/5 [==============================] - 1s 176ms/step - loss: 0.0089 - val_loss: 0.0040\n",
      "Epoch 100/100\n",
      "5/5 [==============================] - 1s 179ms/step - loss: 0.0095 - val_loss: 0.0023\n"
     ]
    },
    {
     "data": {
      "text/plain": [
       "<keras.callbacks.History at 0x29420cd3f10>"
      ]
     },
     "execution_count": 14,
     "metadata": {},
     "output_type": "execute_result"
    }
   ],
   "source": [
    "# No callbacks implemented\n",
    "\n",
    "model.compile(optimizer='adam',loss='mean_squared_error')\n",
    "model.fit(X_train,y_train,epochs=NUM_EPOCHS,batch_size=32, validation_split=0.20)"
   ]
  },
  {
   "cell_type": "markdown",
   "metadata": {
    "id": "ikYooG6VUlTs"
   },
   "source": []
  },
  {
   "cell_type": "code",
   "execution_count": 15,
   "metadata": {
    "id": "2Nra6iNZC2Yg"
   },
   "outputs": [
    {
     "name": "stdout",
     "output_type": "stream",
     "text": [
      "1/1 [==============================] - 0s 53ms/step - loss: 0.0057\n",
      "Test Loss:  0.005727787502110004\n"
     ]
    }
   ],
   "source": [
    "# Convert X_test and y_test to Numpy arrays if they are not already\n",
    "X_test = np.array(X_test)\n",
    "y_test = np.array(y_test)\n",
    "\n",
    "# Ensure X_test is reshaped similarly to how X_train was reshaped\n",
    "# This depends on how you preprocessed the training data\n",
    "X_test = np.reshape(X_test, (X_test.shape[0], X_test.shape[1], 1))\n",
    "\n",
    "# Now evaluate the model on the test data\n",
    "test_loss = model.evaluate(X_test, y_test)\n",
    "print(\"Test Loss: \", test_loss)"
   ]
  },
  {
   "cell_type": "code",
   "execution_count": 16,
   "metadata": {
    "id": "POGgVW4JG_8p"
   },
   "outputs": [
    {
     "name": "stdout",
     "output_type": "stream",
     "text": [
      "1/1 [==============================] - 1s 1s/step\n",
      "Mean Absolute Error:  0.0653134088109685\n",
      "Root Mean Square Error:  0.07568215028632398\n"
     ]
    }
   ],
   "source": [
    "from sklearn.metrics import mean_absolute_error, mean_squared_error\n",
    "\n",
    "# Making predictions\n",
    "y_pred = model.predict(X_test)\n",
    "\n",
    "# Calculating MAE and RMSE\n",
    "mae = mean_absolute_error(y_test, y_pred)\n",
    "rmse = mean_squared_error(y_test, y_pred, squared=False)\n",
    "\n",
    "print(\"Mean Absolute Error: \", mae)\n",
    "print(\"Root Mean Square Error: \", rmse)\n"
   ]
  },
  {
   "cell_type": "code",
   "execution_count": 17,
   "metadata": {
    "id": "TV51IbprPjGN"
   },
   "outputs": [
    {
     "name": "stdout",
     "output_type": "stream",
     "text": [
      "20\n"
     ]
    }
   ],
   "source": [
    "predicted_prices = []\n",
    "y_test_actual = []\n",
    "for item in y_pred:\n",
    "  predicted_prices.append(scaler.inverse_transform([item])[0,0])\n",
    "\n",
    "for item in y_test:\n",
    "  y_test_actual.append(scaler.inverse_transform([[item]])[0,0])\n",
    "\n",
    "train_size = int(len(X) * TRAINING_PCNT)\n",
    "predicted_df = pd.DataFrame()\n",
    "predicted_df['Actual Value'] = data[TARGET_VARIABLE].iloc[train_size+DAYS_BEFORE:]\n",
    "predicted_df['Actual Value Y test'] = y_test_actual\n",
    "predicted_df['Predicted Value'] = predicted_prices\n",
    "print(len(y_test_actual))"
   ]
  },
  {
   "cell_type": "code",
   "execution_count": 18,
   "metadata": {
    "id": "l5yWTzBSRllP"
   },
   "outputs": [
    {
     "data": {
      "text/plain": [
       "<Axes: xlabel='Date'>"
      ]
     },
     "execution_count": 18,
     "metadata": {},
     "output_type": "execute_result"
    },
    {
     "data": {
      "image/png": "[encoded data removed]",
      "text/plain": [
       "<Figure size 640x480 with 1 Axes>"
      ]
     },
     "metadata": {},
     "output_type": "display_data"
    }
   ],
   "source": [
    "predicted_df.plot()"
   ]
  },
  {
   "cell_type": "code",
   "execution_count": 19,
   "metadata": {
    "id": "3IRGiekjRvhC"
   },
   "outputs": [
    {
     "name": "stderr",
     "output_type": "stream",
     "text": [
      "[*********************100%***********************]  1 of 1 completed\n"
     ]
    },
    {
     "data": {
      "text/plain": [
       "Ticker\n",
       "AAPL    190.858856\n",
       "Name: 2024-05-30 00:00:00+00:00, dtype: float64"
      ]
     },
     "execution_count": 19,
     "metadata": {},
     "output_type": "execute_result"
    }
   ],
   "source": [
    "import yfinance as yf\n",
    "import numpy as np\n",
    "from sklearn.preprocessing import MinMaxScaler\n",
    "\n",
    "# Fetch the latest 60 days of AAPL stock data\n",
    "prediction_data = yf.download(TICKER, start=START_PREDICTION_DATE, end=END_PREDICTION_DATE)\n",
    "scaler = MinMaxScaler(feature_range=(0,1))\n",
    "data_scaled = scaler.fit_transform(data[TARGET_VARIABLE].values.reshape(-1,1))\n",
    "predicted_scaled = scaler.fit_transform(prediction_data[TARGET_VARIABLE].values.reshape(-1,1))\n",
    "data[TARGET_VARIABLE].iloc[-1]"
   ]
  },
  {
   "cell_type": "code",
   "execution_count": 20,
   "metadata": {
    "id": "PHIX5VD7Rvd5",
    "scrolled": true
   },
   "outputs": [
    {
     "name": "stdout",
     "output_type": "stream",
     "text": [
      "1/1 [==============================] - 0s 44ms/step\n",
      "1/1 [==============================] - 0s 41ms/step\n",
      "1/1 [==============================] - 0s 43ms/step\n",
      "1/1 [==============================] - 0s 45ms/step\n",
      "1/1 [==============================] - 0s 42ms/step\n",
      "1/1 [==============================] - 0s 41ms/step\n",
      "1/1 [==============================] - 0s 43ms/step\n",
      "1/1 [==============================] - 0s 44ms/step\n",
      "1/1 [==============================] - 0s 42ms/step\n",
      "1/1 [==============================] - 0s 45ms/step\n",
      "1/1 [==============================] - 0s 40ms/step\n",
      "1/1 [==============================] - 0s 42ms/step\n",
      "1/1 [==============================] - 0s 41ms/step\n",
      "1/1 [==============================] - 0s 42ms/step\n",
      "1/1 [==============================] - 0s 40ms/step\n",
      "1/1 [==============================] - 0s 41ms/step\n",
      "1/1 [==============================] - 0s 44ms/step\n",
      "1/1 [==============================] - 0s 42ms/step\n",
      "1/1 [==============================] - 0s 43ms/step\n",
      "1/1 [==============================] - 0s 42ms/step\n",
      "1/1 [==============================] - 0s 41ms/step\n",
      "1/1 [==============================] - 0s 39ms/step\n",
      "1/1 [==============================] - 0s 42ms/step\n",
      "1/1 [==============================] - 0s 43ms/step\n",
      "1/1 [==============================] - 0s 38ms/step\n",
      "1/1 [==============================] - 0s 45ms/step\n",
      "1/1 [==============================] - 0s 43ms/step\n",
      "1/1 [==============================] - 0s 41ms/step\n",
      "1/1 [==============================] - 0s 42ms/step\n",
      "1/1 [==============================] - 0s 39ms/step\n",
      "1/1 [==============================] - 0s 41ms/step\n",
      "1/1 [==============================] - 0s 36ms/step\n",
      "1/1 [==============================] - 0s 41ms/step\n",
      "1/1 [==============================] - 0s 42ms/step\n",
      "1/1 [==============================] - 0s 42ms/step\n",
      "1/1 [==============================] - 0s 52ms/step\n",
      "1/1 [==============================] - 0s 53ms/step\n",
      "1/1 [==============================] - 0s 49ms/step\n",
      "1/1 [==============================] - 0s 46ms/step\n",
      "1/1 [==============================] - 0s 46ms/step\n",
      "1/1 [==============================] - 0s 49ms/step\n",
      "1/1 [==============================] - 0s 44ms/step\n",
      "1/1 [==============================] - 0s 43ms/step\n",
      "1/1 [==============================] - 0s 44ms/step\n",
      "1/1 [==============================] - 0s 44ms/step\n",
      "1/1 [==============================] - 0s 41ms/step\n",
      "1/1 [==============================] - 0s 42ms/step\n",
      "1/1 [==============================] - 0s 41ms/step\n",
      "1/1 [==============================] - 0s 42ms/step\n",
      "1/1 [==============================] - 0s 43ms/step\n",
      "1/1 [==============================] - 0s 44ms/step\n",
      "1/1 [==============================] - 0s 44ms/step\n",
      "1/1 [==============================] - 0s 44ms/step\n",
      "1/1 [==============================] - 0s 45ms/step\n",
      "1/1 [==============================] - 0s 47ms/step\n",
      "1/1 [==============================] - 0s 45ms/step\n",
      "1/1 [==============================] - 0s 49ms/step\n",
      "1/1 [==============================] - 0s 42ms/step\n",
      "1/1 [==============================] - 0s 40ms/step\n",
      "1/1 [==============================] - 0s 41ms/step\n",
      "1/1 [==============================] - 0s 43ms/step\n",
      "1/1 [==============================] - 0s 40ms/step\n",
      "1/1 [==============================] - 0s 43ms/step\n",
      "1/1 [==============================] - 0s 43ms/step\n",
      "1/1 [==============================] - 0s 40ms/step\n",
      "1/1 [==============================] - 0s 42ms/step\n",
      "1/1 [==============================] - 0s 42ms/step\n",
      "1/1 [==============================] - 0s 48ms/step\n",
      "1/1 [==============================] - 0s 42ms/step\n",
      "1/1 [==============================] - 0s 41ms/step\n",
      "1/1 [==============================] - 0s 43ms/step\n",
      "1/1 [==============================] - 0s 42ms/step\n",
      "1/1 [==============================] - 0s 42ms/step\n",
      "1/1 [==============================] - 0s 42ms/step\n",
      "1/1 [==============================] - 0s 39ms/step\n",
      "1/1 [==============================] - 0s 42ms/step\n",
      "1/1 [==============================] - 0s 46ms/step\n",
      "1/1 [==============================] - 0s 41ms/step\n",
      "1/1 [==============================] - 0s 44ms/step\n",
      "1/1 [==============================] - 0s 44ms/step\n",
      "1/1 [==============================] - 0s 43ms/step\n",
      "1/1 [==============================] - 0s 42ms/step\n",
      "1/1 [==============================] - 0s 41ms/step\n",
      "1/1 [==============================] - 0s 42ms/step\n",
      "1/1 [==============================] - 0s 42ms/step\n",
      "1/1 [==============================] - 0s 42ms/step\n",
      "1/1 [==============================] - 0s 42ms/step\n",
      "1/1 [==============================] - 0s 45ms/step\n",
      "1/1 [==============================] - 0s 40ms/step\n",
      "1/1 [==============================] - 0s 38ms/step\n",
      "1/1 [==============================] - 0s 43ms/step\n",
      "1/1 [==============================] - 0s 43ms/step\n",
      "1/1 [==============================] - 0s 47ms/step\n",
      "1/1 [==============================] - 0s 44ms/step\n",
      "1/1 [==============================] - 0s 42ms/step\n",
      "1/1 [==============================] - 0s 42ms/step\n",
      "1/1 [==============================] - 0s 44ms/step\n",
      "1/1 [==============================] - 0s 43ms/step\n",
      "1/1 [==============================] - 0s 43ms/step\n",
      "1/1 [==============================] - 0s 40ms/step\n",
      "1/1 [==============================] - 0s 41ms/step\n",
      "1/1 [==============================] - 0s 41ms/step\n",
      "1/1 [==============================] - 0s 39ms/step\n",
      "1/1 [==============================] - 0s 43ms/step\n",
      "1/1 [==============================] - 0s 42ms/step\n",
      "1/1 [==============================] - 0s 41ms/step\n",
      "1/1 [==============================] - 0s 42ms/step\n",
      "1/1 [==============================] - 0s 46ms/step\n",
      "1/1 [==============================] - 0s 44ms/step\n",
      "1/1 [==============================] - 0s 42ms/step\n",
      "1/1 [==============================] - 0s 44ms/step\n",
      "1/1 [==============================] - 0s 41ms/step\n",
      "1/1 [==============================] - 0s 44ms/step\n",
      "1/1 [==============================] - 0s 43ms/step\n",
      "1/1 [==============================] - 0s 39ms/step\n",
      "1/1 [==============================] - 0s 45ms/step\n",
      "1/1 [==============================] - 0s 41ms/step\n",
      "1/1 [==============================] - 0s 41ms/step\n",
      "1/1 [==============================] - 0s 39ms/step\n",
      "1/1 [==============================] - 0s 40ms/step\n",
      "1/1 [==============================] - 0s 42ms/step\n",
      "1/1 [==============================] - 0s 41ms/step\n",
      "1/1 [==============================] - 0s 46ms/step\n",
      "1/1 [==============================] - 0s 41ms/step\n",
      "1/1 [==============================] - 0s 46ms/step\n",
      "1/1 [==============================] - 0s 37ms/step\n",
      "1/1 [==============================] - 0s 42ms/step\n",
      "1/1 [==============================] - 0s 40ms/step\n",
      "1/1 [==============================] - 0s 46ms/step\n",
      "1/1 [==============================] - 0s 42ms/step\n",
      "1/1 [==============================] - 0s 42ms/step\n",
      "1/1 [==============================] - 0s 43ms/step\n",
      "1/1 [==============================] - 0s 42ms/step\n",
      "1/1 [==============================] - 0s 45ms/step\n",
      "1/1 [==============================] - 0s 43ms/step\n",
      "1/1 [==============================] - 0s 41ms/step\n",
      "1/1 [==============================] - 0s 42ms/step\n",
      "1/1 [==============================] - 0s 43ms/step\n",
      "1/1 [==============================] - 0s 42ms/step\n",
      "1/1 [==============================] - 0s 42ms/step\n",
      "1/1 [==============================] - 0s 42ms/step\n",
      "1/1 [==============================] - 0s 41ms/step\n",
      "1/1 [==============================] - 0s 42ms/step\n",
      "1/1 [==============================] - 0s 45ms/step\n",
      "1/1 [==============================] - 0s 43ms/step\n",
      "1/1 [==============================] - 0s 40ms/step\n",
      "1/1 [==============================] - 0s 43ms/step\n",
      "1/1 [==============================] - 0s 41ms/step\n",
      "1/1 [==============================] - 0s 40ms/step\n",
      "1/1 [==============================] - 0s 41ms/step\n",
      "1/1 [==============================] - 0s 40ms/step\n",
      "1/1 [==============================] - 0s 47ms/step\n",
      "1/1 [==============================] - 0s 44ms/step\n",
      "1/1 [==============================] - 0s 43ms/step\n",
      "1/1 [==============================] - 0s 39ms/step\n",
      "1/1 [==============================] - 0s 39ms/step\n",
      "1/1 [==============================] - 0s 40ms/step\n",
      "1/1 [==============================] - 0s 42ms/step\n",
      "1/1 [==============================] - 0s 43ms/step\n",
      "1/1 [==============================] - 0s 42ms/step\n",
      "1/1 [==============================] - 0s 43ms/step\n",
      "1/1 [==============================] - 0s 41ms/step\n",
      "1/1 [==============================] - 0s 43ms/step\n",
      "1/1 [==============================] - 0s 40ms/step\n",
      "1/1 [==============================] - 0s 42ms/step\n",
      "1/1 [==============================] - 0s 50ms/step\n",
      "1/1 [==============================] - 0s 41ms/step\n",
      "1/1 [==============================] - 0s 42ms/step\n",
      "1/1 [==============================] - 0s 43ms/step\n",
      "1/1 [==============================] - 0s 41ms/step\n",
      "1/1 [==============================] - 0s 41ms/step\n",
      "1/1 [==============================] - 0s 45ms/step\n",
      "1/1 [==============================] - 0s 42ms/step\n",
      "1/1 [==============================] - 0s 43ms/step\n",
      "1/1 [==============================] - 0s 40ms/step\n",
      "1/1 [==============================] - 0s 41ms/step\n",
      "1/1 [==============================] - 0s 41ms/step\n",
      "1/1 [==============================] - 0s 44ms/step\n",
      "1/1 [==============================] - 0s 40ms/step\n",
      "1/1 [==============================] - 0s 42ms/step\n",
      "1/1 [==============================] - 0s 40ms/step\n",
      "1/1 [==============================] - 0s 42ms/step\n",
      "1/1 [==============================] - 0s 42ms/step\n",
      "1/1 [==============================] - 0s 40ms/step\n",
      "1/1 [==============================] - 0s 42ms/step\n",
      "1/1 [==============================] - 0s 42ms/step\n",
      "1/1 [==============================] - 0s 42ms/step\n",
      "1/1 [==============================] - 0s 45ms/step\n",
      "1/1 [==============================] - 0s 44ms/step\n",
      "1/1 [==============================] - 0s 38ms/step\n",
      "1/1 [==============================] - 0s 40ms/step\n",
      "1/1 [==============================] - 0s 40ms/step\n",
      "1/1 [==============================] - 0s 40ms/step\n",
      "1/1 [==============================] - 0s 41ms/step\n",
      "1/1 [==============================] - 0s 43ms/step\n",
      "1/1 [==============================] - 0s 40ms/step\n",
      "1/1 [==============================] - 0s 41ms/step\n",
      "1/1 [==============================] - 0s 40ms/step\n",
      "1/1 [==============================] - 0s 42ms/step\n",
      "1/1 [==============================] - 0s 42ms/step\n",
      "1/1 [==============================] - 0s 43ms/step\n",
      "1/1 [==============================] - 0s 43ms/step\n",
      "1/1 [==============================] - 0s 42ms/step\n",
      "1/1 [==============================] - 0s 39ms/step\n",
      "1/1 [==============================] - 0s 40ms/step\n",
      "1/1 [==============================] - 0s 42ms/step\n",
      "1/1 [==============================] - 0s 43ms/step\n",
      "1/1 [==============================] - 0s 41ms/step\n",
      "1/1 [==============================] - 0s 41ms/step\n",
      "1/1 [==============================] - 0s 41ms/step\n",
      "1/1 [==============================] - 0s 41ms/step\n",
      "1/1 [==============================] - 0s 40ms/step\n",
      "1/1 [==============================] - 0s 39ms/step\n",
      "1/1 [==============================] - 0s 41ms/step\n",
      "1/1 [==============================] - 0s 39ms/step\n",
      "1/1 [==============================] - 0s 42ms/step\n",
      "1/1 [==============================] - 0s 41ms/step\n",
      "1/1 [==============================] - 0s 38ms/step\n",
      "1/1 [==============================] - 0s 49ms/step\n",
      "1/1 [==============================] - 0s 44ms/step\n",
      "1/1 [==============================] - 0s 41ms/step\n",
      "1/1 [==============================] - 0s 40ms/step\n",
      "1/1 [==============================] - 0s 43ms/step\n",
      "1/1 [==============================] - 0s 41ms/step\n",
      "1/1 [==============================] - 0s 40ms/step\n",
      "1/1 [==============================] - 0s 39ms/step\n",
      "1/1 [==============================] - 0s 41ms/step\n",
      "1/1 [==============================] - 0s 41ms/step\n",
      "1/1 [==============================] - 0s 42ms/step\n",
      "1/1 [==============================] - 0s 42ms/step\n",
      "1/1 [==============================] - 0s 40ms/step\n",
      "1/1 [==============================] - 0s 41ms/step\n",
      "1/1 [==============================] - 0s 38ms/step\n",
      "1/1 [==============================] - 0s 41ms/step\n",
      "1/1 [==============================] - 0s 42ms/step\n",
      "1/1 [==============================] - 0s 41ms/step\n",
      "1/1 [==============================] - 0s 42ms/step\n",
      "1/1 [==============================] - 0s 42ms/step\n",
      "1/1 [==============================] - 0s 40ms/step\n",
      "1/1 [==============================] - 0s 49ms/step\n"
     ]
    }
   ],
   "source": [
    "predicted_prices_from_predicted = []\n",
    "predicted_prices_from_actual = []\n",
    "\n",
    "current_batch = data_scaled[-DAYS_BEFORE:].reshape(1,DAYS_BEFORE,1) #select the correct date is important\n",
    "\n",
    "for i in range(DAYS_TO_PREDICT):  # Predicting 120 days (test size but now we are using predicted values to help)\n",
    "    next_prediction = model.predict(current_batch)\n",
    "    next_prediction_reshaped = next_prediction.reshape(1, 1, 1)\n",
    "    current_batch = np.append(current_batch[:, 1:, :], next_prediction_reshaped, axis=1)\n",
    "    predicted_prices_from_predicted.append(scaler.inverse_transform(next_prediction)[0, 0])\n",
    "\n",
    "    if DAYS_BEFORE-i>0:\n",
    "        current_batch_2 = data_scaled[-(DAYS_BEFORE-i):]\n",
    "        current_batch_3 = predicted_scaled[:i]\n",
    "        current_batch_2 = np.append(current_batch_2, current_batch_3)\n",
    "        next_prediction_from_actual = model.predict(current_batch_2.reshape(1,DAYS_BEFORE,1))\n",
    "    else: \n",
    "        current_batch_3 = predicted_scaled[i-DAYS_BEFORE:i]\n",
    "        next_prediction_from_actual = model.predict(current_batch_3.reshape(1,DAYS_BEFORE,1))\n",
    "    predicted_prices_from_actual.append(scaler.inverse_transform(next_prediction_from_actual)[0, 0])"
   ]
  },
  {
   "cell_type": "code",
   "execution_count": 21,
   "metadata": {},
   "outputs": [
    {
     "data": {
      "text/plain": [
       "120"
      ]
     },
     "execution_count": 21,
     "metadata": {},
     "output_type": "execute_result"
    }
   ],
   "source": [
    "len(prediction_data[TARGET_VARIABLE])"
   ]
  },
  {
   "cell_type": "code",
   "execution_count": 22,
   "metadata": {},
   "outputs": [
    {
     "data": {
      "text/plain": [
       "[232.84761,\n",
       " 233.23064,\n",
       " 233.5514,\n",
       " 233.81154,\n",
       " 234.01381,\n",
       " 234.1617,\n",
       " 234.25917,\n",
       " 234.3103,\n",
       " 234.31923,\n",
       " 234.29001,\n",
       " 234.22656,\n",
       " 234.13257,\n",
       " 234.01152,\n",
       " 233.86671,\n",
       " 233.70114,\n",
       " 233.51761,\n",
       " 233.31866,\n",
       " 233.10664,\n",
       " 232.88365,\n",
       " 232.65152,\n",
       " 232.41202,\n",
       " 232.16664,\n",
       " 231.91673,\n",
       " 231.66348,\n",
       " 231.4079,\n",
       " 231.15099,\n",
       " 230.89348,\n",
       " 230.6361,\n",
       " 230.37943,\n",
       " 230.12398,\n",
       " 229.87018,\n",
       " 229.6184,\n",
       " 229.36891,\n",
       " 229.12198,\n",
       " 228.87775,\n",
       " 228.63638,\n",
       " 228.39798,\n",
       " 228.16257,\n",
       " 227.93022,\n",
       " 227.70091,\n",
       " 227.4746,\n",
       " 227.25122,\n",
       " 227.03072,\n",
       " 226.81302,\n",
       " 226.59798,\n",
       " 226.38553,\n",
       " 226.17549,\n",
       " 225.96777,\n",
       " 225.76224,\n",
       " 225.55872,\n",
       " 225.35706,\n",
       " 225.15717,\n",
       " 224.9589,\n",
       " 224.76207,\n",
       " 224.56665,\n",
       " 224.37247,\n",
       " 224.17944,\n",
       " 223.98755,\n",
       " 223.79674,\n",
       " 223.60703,\n",
       " 223.41846,\n",
       " 223.23112,\n",
       " 223.04518,\n",
       " 222.86089,\n",
       " 222.67859,\n",
       " 222.49866,\n",
       " 222.32166,\n",
       " 222.14822,\n",
       " 221.97913,\n",
       " 221.81534,\n",
       " 221.65785,\n",
       " 221.5079,\n",
       " 221.36678,\n",
       " 221.236,\n",
       " 221.11703,\n",
       " 221.01155,\n",
       " 220.9212,\n",
       " 220.84761,\n",
       " 220.79237,\n",
       " 220.75699,\n",
       " 220.74283,\n",
       " 220.75102,\n",
       " 220.78255,\n",
       " 220.83806,\n",
       " 220.91797,\n",
       " 221.02242,\n",
       " 221.1512,\n",
       " 221.30391,\n",
       " 221.47983,\n",
       " 221.67802,\n",
       " 221.89738,\n",
       " 222.1366,\n",
       " 222.39426,\n",
       " 222.66885,\n",
       " 222.95883,\n",
       " 223.26263,\n",
       " 223.57861,\n",
       " 223.9053,\n",
       " 224.2411,\n",
       " 224.58463,\n",
       " 224.93445,\n",
       " 225.28929,\n",
       " 225.64787,\n",
       " 226.00903,\n",
       " 226.37166,\n",
       " 226.7347,\n",
       " 227.09709,\n",
       " 227.4579,\n",
       " 227.81613,\n",
       " 228.1708,\n",
       " 228.5209,\n",
       " 228.86542,\n",
       " 229.20323,\n",
       " 229.5332,\n",
       " 229.85406,\n",
       " 230.16454,\n",
       " 230.46321,\n",
       " 230.74863,\n",
       " 231.01926,\n",
       " 231.27353]"
      ]
     },
     "execution_count": 22,
     "metadata": {},
     "output_type": "execute_result"
    }
   ],
   "source": [
    "predicted_prices_from_predicted"
   ]
  },
  {
   "cell_type": "code",
   "execution_count": 23,
   "metadata": {
    "id": "FCRqe2WpRvaw"
   },
   "outputs": [],
   "source": [
    "predicted_df=pd.DataFrame()\n",
    "predicted_df['Actual Value'] = prediction_data[TARGET_VARIABLE]\n",
    "predicted_df['Predicted Value'] = predicted_prices_from_predicted\n",
    "predicted_df['Predicted Value from Actual'] = predicted_prices_from_actual"
   ]
  },
  {
   "cell_type": "code",
   "execution_count": 24,
   "metadata": {
    "id": "kmbBbroHRvSb"
   },
   "outputs": [
    {
     "data": {
      "text/plain": [
       "<matplotlib.legend.Legend at 0x2942f229ac0>"
      ]
     },
     "execution_count": 24,
     "metadata": {},
     "output_type": "execute_result"
    },
    {
     "data": {
      "image/png": "[encoded data removed]",
      "text/plain": [
       "<Figure size 500x500 with 1 Axes>"
      ]
     },
     "metadata": {},
     "output_type": "display_data"
    }
   ],
   "source": [
    "plt.figure(figsize=(5,5))\n",
    "# data[TARGET_VARIABLE].plot(color=\"red\", linewidth=2)\n",
    "predicted_df['Actual Value'].plot(color=\"red\", linewidth=1)\n",
    "predicted_df['Predicted Value from Actual'].plot(color=\"green\", linestyle=\"--\", linewidth=1,  label=\"Method 1\")\n",
    "predicted_df['Predicted Value'].plot(color=\"blue\", linestyle=\"--\", linewidth=1, label=\"Method 2\")\n",
    "plt.xlabel(\"Dates\", fontsize = 12)\n",
    "plt.ylabel(\"Daily Returns\", fontsize = 12)\n",
    "plt.title(\"Actual Vs Predicted Daily Returns for \"+str(DAYS_BEFORE) +\" Days Before\", fontsize = 12)\n",
    "plt.legend()"
   ]
  },
  {
   "cell_type": "code",
   "execution_count": null,
   "metadata": {
    "id": "wU_sFwXsRvIr"
   },
   "outputs": [],
   "source": []
  },
  {
   "cell_type": "code",
   "execution_count": null,
   "metadata": {},
   "outputs": [],
   "source": []
  },
  {
   "cell_type": "code",
   "execution_count": null,
   "metadata": {},
   "outputs": [],
   "source": []
  }
 ],
 "metadata": {
  "colab": {
   "provenance": []
  },
  "kernelspec": {
   "display_name": "Python 3 (ipykernel)",
   "language": "python",
   "name": "python3"
  },
  "language_info": {
   "codemirror_mode": {
    "name": "ipython",
    "version": 3
   },
   "file_extension": ".py",
   "mimetype": "text/x-python",
   "name": "python",
   "nbconvert_exporter": "python",
   "pygments_lexer": "ipython3",
   "version": "3.8.18"
  }
 },
 "nbformat": 4,
 "nbformat_minor": 4
}
